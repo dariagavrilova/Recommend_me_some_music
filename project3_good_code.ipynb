{
 "cells": [
  {
   "cell_type": "code",
   "execution_count": 2,
   "metadata": {},
   "outputs": [],
   "source": [
    "from bs4 import BeautifulSoup\n",
    "import requests\n",
    "import pandas as pd\n",
    "import random\n",
    "import spotipy\n",
    "from spotipy.oauth2 import SpotifyClientCredentials\n",
    "from sklearn import datasets\n",
    "from sklearn.preprocessing import StandardScaler\n",
    "from sklearn.cluster import KMeans"
   ]
  },
  {
   "cell_type": "code",
   "execution_count": 3,
   "metadata": {},
   "outputs": [],
   "source": [
    "# working with billboard to check if the song is hot\n",
    "url=\"https://www.billboard.com/charts/hot-100\"\n",
    "response=requests.get(url)\n",
    "response\n",
    "\n",
    "soup=BeautifulSoup(response.content, \"html.parser\")\n",
    "soup.select(\"span.chart-element__information__artist.text--truncate.color--secondary\")[0].get_text()\n",
    "soup.select(\"span.chart-element__information__song.text--truncate.color--primary\")[0].get_text()\n",
    "\n",
    "songs=[]\n",
    "\n",
    "for song in soup.select(\"span.chart-element__information__song.text--truncate.color--primary\"):\n",
    "     songs.append(song.get_text())\n",
    "\n",
    "\n",
    "artists=[]\n",
    "\n",
    "for artist in soup.select(\"span.chart-element__information__artist.text--truncate.color--secondary\"):\n",
    "     artists.append(artist.get_text())\n",
    "\n",
    "\n",
    "billboard = pd.DataFrame({\"artist\": artists,\n",
    "    \"song\":songs})\n",
    "billboard['atrist+song'] = billboard[['artist', 'song']].agg(', '.join, axis=1)\n",
    "song_and_artist = billboard['atrist+song'].tolist()\n",
    "\n",
    "#creating a list with a lower case songs\n",
    "songs_lower=[]\n",
    "\n",
    "for x in songs:\n",
    "    songs_lower.append(x.lower())"
   ]
  },
  {
   "cell_type": "code",
   "execution_count": 4,
   "metadata": {},
   "outputs": [
    {
     "name": "stdout",
     "output_type": "stream",
     "text": [
      "\n",
      "Enter your favorite song or enter stop: mood\n",
      "\n",
      "You like: mood\n",
      "That is cool. Let's see, if I can advise you something else...\n",
      "You may also like: AJR, Bang!\n",
      "\n",
      "Enter your favorite song or enter stop: stop\n",
      "\n",
      "See you later\n"
     ]
    }
   ],
   "source": [
    "#prototype 1\n",
    "\n",
    "your_song=input\n",
    "offered_song=random.choice(song_and_artist)\n",
    "\n",
    "while your_song != \"stop\":\n",
    "    your_song=input(\"\\nEnter your favorite song or enter stop: \").lower()\n",
    "    if your_song in songs_lower:\n",
    "        print(\"\\nYou like: \"+your_song+\"\\nThat is cool. Let's see, if I can advise you something else...\\nYou may also like: \"+offered_song)\n",
    "    elif your_song == \"stop\":\n",
    "        print(\"\\nSee you later\")\n",
    "    else:\n",
    "        print(\"\\nYou like: \"+your_song+\"\\nThat is cool. Let's see, if I can advise you something else...\\nSorry, I have northing to advise you.\")\n"
   ]
  },
  {
   "cell_type": "raw",
   "metadata": {},
   "source": [
    "creating data base from spotify"
   ]
  },
  {
   "cell_type": "code",
   "execution_count": 5,
   "metadata": {},
   "outputs": [
    {
     "data": {
      "text/plain": [
       "'spotify:track:1xYpVRspgaLxdJLOTQkTjg'"
      ]
     },
     "execution_count": 5,
     "metadata": {},
     "output_type": "execute_result"
    }
   ],
   "source": [
    "#spotify id and key, looking for your song in spoti\n",
    "spotify = spotipy.Spotify(client_credentials_manager=SpotifyClientCredentials(client_id=\"f5823d29c90c43f8b9580f754fc89dd2\", client_secret=\"0225ed3668dc436d9236966074a51604\"))\n",
    "results=spotify.search(q=your_song, limit=1)\n",
    "\n",
    "results.keys()\n",
    "results[\"tracks\"].keys()\n",
    "results[\"tracks\"][\"items\"][0].keys()\n",
    "results[\"tracks\"][\"items\"][0][\"uri\"]"
   ]
  },
  {
   "cell_type": "code",
   "execution_count": 6,
   "metadata": {},
   "outputs": [],
   "source": [
    "def get_track_id(user, playlist_id):\n",
    "    ids = []\n",
    "    playlist = spotify.user_playlist(user, playlist_id)\n",
    "    for item in playlist['tracks']['items']:\n",
    "        track = item['track']\n",
    "        ids.append(track['id'])\n",
    "    return ids\n",
    "id_list=get_track_id(\"spotify\", \"spotify:playlist:46tBq96NNkN0jDnaAxokdY\")\n"
   ]
  },
  {
   "cell_type": "code",
   "execution_count": 7,
   "metadata": {},
   "outputs": [],
   "source": [
    "#function that looks for \n",
    "\n",
    "def get_track_features(id):\n",
    "    meta = spotify.track(id)\n",
    "    features = spotify.audio_features(id)\n",
    "\n",
    "# meta\n",
    "    name = meta['name']\n",
    "    album = meta['album']['name']\n",
    "    artist = meta['album']['artists'][0]['name']\n",
    "    release_date = meta['album']['release_date']\n",
    "    popularity = meta['popularity']\n",
    "\n",
    "# features\n",
    "    acousticness = features[0]['acousticness']\n",
    "    danceability = features[0]['danceability']\n",
    "    energy = features[0]['energy']\n",
    "    instrumentalness = features[0]['instrumentalness']\n",
    "    liveness = features[0]['liveness']\n",
    "    loudness = features[0]['loudness']\n",
    "    speechiness = features[0]['speechiness']\n",
    "    tempo = features[0]['tempo']\n",
    "    \n",
    "\n",
    "\n",
    "    track = [name, album, artist, release_date, popularity, danceability, acousticness, danceability, energy, instrumentalness, liveness, loudness, speechiness, tempo]\n",
    "    return track\n",
    "\n"
   ]
  },
  {
   "cell_type": "code",
   "execution_count": 8,
   "metadata": {},
   "outputs": [],
   "source": [
    "# loop over track ids \n",
    "tracks = []\n",
    "\n",
    "def loop_get_track_features(id_lst):\n",
    "    for i in range(len(id_lst)):\n",
    "        if type(id_lst[i])==str:\n",
    "            track = get_track_features(id_lst[i])\n",
    "            tracks.append(track)\n",
    "\n",
    "loop_get_track_features(id_list)\n",
    "# create dataset from playlistd frpm spotify\n",
    "df = pd.DataFrame(tracks, columns = ['name', 'album', 'artist', 'release_date', 'popularity', 'danceability', 'acousticness', 'danceability', 'energy', 'instrumentalness', 'liveness', 'loudness', 'speechiness', 'tempo'])\n"
   ]
  },
  {
   "cell_type": "code",
   "execution_count": 9,
   "metadata": {},
   "outputs": [],
   "source": [
    "id_2019=get_track_id(\"spotify\", \"spotify:playlist:1RY6z7b5L2ekevbNhKe15J\")\n",
    "loop_get_track_features(id_2019)\n",
    "df2019 = pd.DataFrame(tracks, columns = ['name', 'album', 'artist', 'release_date', 'popularity', 'danceability', 'acousticness', 'danceability', 'energy', 'instrumentalness', 'liveness', 'loudness', 'speechiness', 'tempo'])"
   ]
  },
  {
   "cell_type": "code",
   "execution_count": 10,
   "metadata": {},
   "outputs": [],
   "source": [
    "id_2017=get_track_id(\"spotify\", \"spotify:playlist:7HI76wyy8gP2rMcXSpwdQY\")\n",
    "loop_get_track_features(id_2017)\n",
    "df2017 = pd.DataFrame(tracks, columns = ['name', 'album', 'artist', 'release_date', 'popularity', 'danceability', 'acousticness', 'danceability', 'energy', 'instrumentalness', 'liveness', 'loudness', 'speechiness', 'tempo'])"
   ]
  },
  {
   "cell_type": "code",
   "execution_count": 11,
   "metadata": {},
   "outputs": [],
   "source": [
    "id_2015=get_track_id(\"spotify\", \"spotify:playlist:3sdtzcAtBxfEnsYyeS2og5\")\n",
    "loop_get_track_features(id_2015)\n",
    "df2015 = pd.DataFrame(tracks, columns = ['name', 'album', 'artist', 'release_date', 'popularity', 'danceability', 'acousticness', 'danceability', 'energy', 'instrumentalness', 'liveness', 'loudness', 'speechiness', 'tempo'])"
   ]
  },
  {
   "cell_type": "code",
   "execution_count": 12,
   "metadata": {},
   "outputs": [],
   "source": [
    "id_2014=get_track_id(\"spotify\", \"spotify:playlist:6PqVIC8LPFTH733ewxBCpC\")\n",
    "loop_get_track_features(id_2014)\n",
    "df2014 = pd.DataFrame(tracks, columns = ['name', 'album', 'artist', 'release_date', 'popularity', 'danceability', 'acousticness', 'danceability', 'energy', 'instrumentalness', 'liveness', 'loudness', 'speechiness', 'tempo'])"
   ]
  },
  {
   "cell_type": "code",
   "execution_count": 13,
   "metadata": {},
   "outputs": [],
   "source": [
    "id_2013=get_track_id(\"spotify\", \"spotify:playlist:5VYNaFZBeGnYsfE2jmsKI8\")\n",
    "loop_get_track_features(id_2013)\n",
    "df2013 = pd.DataFrame(tracks, columns = ['name', 'album', 'artist', 'release_date', 'popularity', 'danceability', 'acousticness', 'danceability', 'energy', 'instrumentalness', 'liveness', 'loudness', 'speechiness', 'tempo'])"
   ]
  },
  {
   "cell_type": "code",
   "execution_count": 14,
   "metadata": {},
   "outputs": [],
   "source": [
    "id_2000=get_track_id(\"spotify\", \"spotify:playlist:7oaBsni6C0xBGjjuDyzYxJ\")\n",
    "loop_get_track_features(id_2000)\n",
    "df2000 = pd.DataFrame(tracks, columns = ['name', 'album', 'artist', 'release_date', 'popularity', 'danceability', 'acousticness', 'danceability', 'energy', 'instrumentalness', 'liveness', 'loudness', 'speechiness', 'tempo'])"
   ]
  },
  {
   "cell_type": "code",
   "execution_count": 16,
   "metadata": {},
   "outputs": [],
   "source": [
    "id_90=get_track_id(\"spotify\", \"6jxWavBZaZNYn8pvUhhYzP\")\n",
    "loop_get_track_features(id_90)\n",
    "df90 = pd.DataFrame(tracks, columns = ['name', 'album', 'artist', 'release_date', 'popularity', 'danceability', 'acousticness', 'danceability', 'energy', 'instrumentalness', 'liveness', 'loudness', 'speechiness', 'tempo'])"
   ]
  },
  {
   "cell_type": "code",
   "execution_count": 17,
   "metadata": {},
   "outputs": [],
   "source": [
    "id_80=get_track_id(\"spotify\", \"spotify:playlist:7LqDtIY2xskbyuiu7oh3M7\")\n",
    "loop_get_track_features(id_80)\n",
    "df80 = pd.DataFrame(tracks, columns = ['name', 'album', 'artist', 'release_date', 'popularity', 'danceability', 'acousticness', 'danceability', 'energy', 'instrumentalness', 'liveness', 'loudness', 'speechiness', 'tempo'])"
   ]
  },
  {
   "cell_type": "code",
   "execution_count": 18,
   "metadata": {},
   "outputs": [],
   "source": [
    "id_70=get_track_id(\"spotify\", \"spotify:playlist:7LqDtIY2xskbyuiu7oh3M7\")\n",
    "loop_get_track_features(id_70)\n",
    "result = pd.DataFrame(tracks, columns = ['name', 'album', 'artist', 'release_date', 'popularity', 'danceability', 'acousticness', 'danceability', 'energy', 'instrumentalness', 'liveness', 'loudness', 'speechiness', 'tempo'])"
   ]
  },
  {
   "cell_type": "raw",
   "metadata": {},
   "source": [
    "clustering "
   ]
  },
  {
   "cell_type": "code",
   "execution_count": 19,
   "metadata": {},
   "outputs": [
    {
     "data": {
      "text/html": [
       "<div>\n",
       "<style scoped>\n",
       "    .dataframe tbody tr th:only-of-type {\n",
       "        vertical-align: middle;\n",
       "    }\n",
       "\n",
       "    .dataframe tbody tr th {\n",
       "        vertical-align: top;\n",
       "    }\n",
       "\n",
       "    .dataframe thead th {\n",
       "        text-align: right;\n",
       "    }\n",
       "</style>\n",
       "<table border=\"1\" class=\"dataframe\">\n",
       "  <thead>\n",
       "    <tr style=\"text-align: right;\">\n",
       "      <th></th>\n",
       "      <th>name</th>\n",
       "      <th>album</th>\n",
       "      <th>artist</th>\n",
       "      <th>release_date</th>\n",
       "      <th>popularity</th>\n",
       "      <th>danceability</th>\n",
       "      <th>acousticness</th>\n",
       "      <th>danceability</th>\n",
       "      <th>energy</th>\n",
       "      <th>instrumentalness</th>\n",
       "      <th>liveness</th>\n",
       "      <th>loudness</th>\n",
       "      <th>speechiness</th>\n",
       "      <th>tempo</th>\n",
       "      <th>cluster</th>\n",
       "    </tr>\n",
       "  </thead>\n",
       "  <tbody>\n",
       "    <tr>\n",
       "      <th>0</th>\n",
       "      <td>See You Again (feat. Charlie Puth)</td>\n",
       "      <td>See You Again (feat. Charlie Puth)</td>\n",
       "      <td>Wiz Khalifa</td>\n",
       "      <td>2015-03-10</td>\n",
       "      <td>0</td>\n",
       "      <td>0.689</td>\n",
       "      <td>0.3690</td>\n",
       "      <td>0.689</td>\n",
       "      <td>0.481</td>\n",
       "      <td>0.000001</td>\n",
       "      <td>0.0649</td>\n",
       "      <td>-7.503</td>\n",
       "      <td>0.0815</td>\n",
       "      <td>80.025</td>\n",
       "      <td>0</td>\n",
       "    </tr>\n",
       "    <tr>\n",
       "      <th>1</th>\n",
       "      <td>Best Day Of My Life</td>\n",
       "      <td>Best Day Of My Life</td>\n",
       "      <td>American Authors</td>\n",
       "      <td>2013-03-19</td>\n",
       "      <td>4</td>\n",
       "      <td>0.672</td>\n",
       "      <td>0.0545</td>\n",
       "      <td>0.672</td>\n",
       "      <td>0.901</td>\n",
       "      <td>0.000285</td>\n",
       "      <td>0.0792</td>\n",
       "      <td>-2.415</td>\n",
       "      <td>0.0353</td>\n",
       "      <td>99.989</td>\n",
       "      <td>0</td>\n",
       "    </tr>\n",
       "    <tr>\n",
       "      <th>2</th>\n",
       "      <td>Some Nights</td>\n",
       "      <td>Some Nights</td>\n",
       "      <td>fun.</td>\n",
       "      <td>2012-02-14</td>\n",
       "      <td>71</td>\n",
       "      <td>0.672</td>\n",
       "      <td>0.0178</td>\n",
       "      <td>0.672</td>\n",
       "      <td>0.738</td>\n",
       "      <td>0.000068</td>\n",
       "      <td>0.0927</td>\n",
       "      <td>-7.045</td>\n",
       "      <td>0.0506</td>\n",
       "      <td>107.938</td>\n",
       "      <td>0</td>\n",
       "    </tr>\n",
       "    <tr>\n",
       "      <th>3</th>\n",
       "      <td>Carry On</td>\n",
       "      <td>Some Nights</td>\n",
       "      <td>fun.</td>\n",
       "      <td>2012-02-14</td>\n",
       "      <td>58</td>\n",
       "      <td>0.388</td>\n",
       "      <td>0.1180</td>\n",
       "      <td>0.388</td>\n",
       "      <td>0.694</td>\n",
       "      <td>0.000293</td>\n",
       "      <td>0.0820</td>\n",
       "      <td>-5.769</td>\n",
       "      <td>0.0735</td>\n",
       "      <td>145.434</td>\n",
       "      <td>6</td>\n",
       "    </tr>\n",
       "    <tr>\n",
       "      <th>4</th>\n",
       "      <td>Counting Stars</td>\n",
       "      <td>Native</td>\n",
       "      <td>OneRepublic</td>\n",
       "      <td>2014-01-01</td>\n",
       "      <td>74</td>\n",
       "      <td>0.664</td>\n",
       "      <td>0.0654</td>\n",
       "      <td>0.664</td>\n",
       "      <td>0.705</td>\n",
       "      <td>0.000000</td>\n",
       "      <td>0.1150</td>\n",
       "      <td>-4.972</td>\n",
       "      <td>0.0382</td>\n",
       "      <td>122.017</td>\n",
       "      <td>0</td>\n",
       "    </tr>\n",
       "  </tbody>\n",
       "</table>\n",
       "</div>"
      ],
      "text/plain": [
       "                                 name                               album  \\\n",
       "0  See You Again (feat. Charlie Puth)  See You Again (feat. Charlie Puth)   \n",
       "1                 Best Day Of My Life                 Best Day Of My Life   \n",
       "2                         Some Nights                         Some Nights   \n",
       "3                            Carry On                         Some Nights   \n",
       "4                      Counting Stars                              Native   \n",
       "\n",
       "             artist release_date  popularity  danceability  acousticness  \\\n",
       "0       Wiz Khalifa   2015-03-10           0         0.689        0.3690   \n",
       "1  American Authors   2013-03-19           4         0.672        0.0545   \n",
       "2              fun.   2012-02-14          71         0.672        0.0178   \n",
       "3              fun.   2012-02-14          58         0.388        0.1180   \n",
       "4       OneRepublic   2014-01-01          74         0.664        0.0654   \n",
       "\n",
       "   danceability  energy  instrumentalness  liveness  loudness  speechiness  \\\n",
       "0         0.689   0.481          0.000001    0.0649    -7.503       0.0815   \n",
       "1         0.672   0.901          0.000285    0.0792    -2.415       0.0353   \n",
       "2         0.672   0.738          0.000068    0.0927    -7.045       0.0506   \n",
       "3         0.388   0.694          0.000293    0.0820    -5.769       0.0735   \n",
       "4         0.664   0.705          0.000000    0.1150    -4.972       0.0382   \n",
       "\n",
       "     tempo  cluster  \n",
       "0   80.025        0  \n",
       "1   99.989        0  \n",
       "2  107.938        0  \n",
       "3  145.434        6  \n",
       "4  122.017        0  "
      ]
     },
     "execution_count": 19,
     "metadata": {},
     "output_type": "execute_result"
    }
   ],
   "source": [
    "scaler=StandardScaler()\n",
    "result_scaled=scaler.fit_transform(result[\"danceability\"])\n",
    "kmeans = KMeans(n_clusters=8, random_state=1234)\n",
    "kmeans.fit(result_scaled)\n",
    "clusters=kmeans.predict(result_scaled)\n",
    "result[\"cluster\"]= clusters\n",
    "result.head()"
   ]
  },
  {
   "cell_type": "code",
   "execution_count": 20,
   "metadata": {},
   "outputs": [],
   "source": [
    "result['atrist+song'] = result[['artist', 'name']].agg(', '.join, axis=1)"
   ]
  },
  {
   "cell_type": "code",
   "execution_count": 21,
   "metadata": {},
   "outputs": [],
   "source": [
    "dfcluster0=result[result[\"cluster\"]==0]\n",
    "dfcluster1=result[result[\"cluster\"]==1]\n",
    "dfcluster2=result[result[\"cluster\"]==2]\n",
    "dfcluster3=result[result[\"cluster\"]==3]\n",
    "dfcluster4=result[result[\"cluster\"]==4]\n",
    "dfcluster5=result[result[\"cluster\"]==5]\n",
    "dfcluster6=result[result[\"cluster\"]==6]\n",
    "dfcluster7=result[result[\"cluster\"]==7]\n",
    "\n",
    "cluster0_list = dfcluster0['atrist+song'].tolist()\n",
    "cluster1_list = dfcluster1['atrist+song'].tolist()\n",
    "cluster2_list = dfcluster2['atrist+song'].tolist()\n",
    "cluster3_list = dfcluster3['atrist+song'].tolist()\n",
    "cluster4_list = dfcluster4['atrist+song'].tolist()\n",
    "cluster5_list = dfcluster5['atrist+song'].tolist()\n",
    "cluster6_list = dfcluster6['atrist+song'].tolist()\n",
    "cluster7_list = dfcluster7['atrist+song'].tolist()"
   ]
  },
  {
   "cell_type": "code",
   "execution_count": 22,
   "metadata": {},
   "outputs": [],
   "source": [
    "#function that checks your_song id and features and store \"dancibitilty\" than definy a cluster by dancibilyty and advise randomly a song from the same cluster\n",
    "\n",
    "def song_check(song):\n",
    "    for result in results[\"tracks\"][\"items\"]:\n",
    "        your_song_uri=result[\"uri\"]\n",
    "        your_song_dance=spotify.audio_features(your_song_uri)[0]['danceability']\n",
    "        if your_song_dance >0.56 and your_song_dance <0.64:\n",
    "            print(\"\\nYou like: \"+your_song+\"\\nThat is cool. Let's see, if I can advise you something else...\\nYou may also like: \" + random.choice(cluster0_list))\n",
    "        elif your_song_dance >0.7 and your_song_dance<0.76:\n",
    "            print(\"\\nYou like: \"+your_song+\"\\nThat is cool. Let's see, if I can advise you something else...\\nYou may also like: \" + random.choice(cluster1_list))\n",
    "        elif your_song_dance >0.34 and your_song_dance<0.46:\n",
    "            print(\"\\nYou like: \"+your_song+\"\\nThat is cool. Let's see, if I can advise you something else...\\nYou may also like: \" + random.choice(cluster2_list))\n",
    "        elif your_song_dance >0.83 and your_song_dance<0.97:\n",
    "            print(\"\\nYou like: \"+your_song+\"\\nThat is cool. Let's see, if I can advise you something else...\\nYou may also like: \" + random.choice(cluster3_list))\n",
    "        elif your_song_dance >0.64 and your_song_dance<0.78:\n",
    "            print(\"\\nYou like: \"+your_song+\"\\nThat is cool. Let's see, if I can advise you something else...\\nYou may also like: \" + random.choice(cluster4_list))\n",
    "        elif your_song_dance>0.47 and your_song_dance<0.56:\n",
    "            print(\"\\nYou like: \"+your_song+\"\\nThat is cool. Let's see, if I can advise you something else...\\nYou may also like: \" + random.choice(cluster5_list))\n",
    "        elif your_song_dance>0.2 and your_song_dance<0.35:\n",
    "            print(\"\\nYou like: \"+your_song+\"\\nThat is cool. Let's see, if I can advise you something else...\\nYou may also like: \" + random.choice(cluster6_list))\n",
    "        else:\n",
    "            print(\"\\nYou like: \"+your_song+\"\\nThat is cool. Let's see, if I can advise you something else...\\nYou may also like: \" + random.choice(cluster7_list))\n"
   ]
  },
  {
   "cell_type": "code",
   "execution_count": 23,
   "metadata": {},
   "outputs": [
    {
     "name": "stdout",
     "output_type": "stream",
     "text": [
      "\n",
      "Enter your favorite song or enter stop: mood\n",
      "\n",
      "You like: mood\n",
      "That is cool. Let's see, if I can advise you something else...\n",
      "Your song is in hot 100 songs!\n",
      "You may also like an other hot song: Justin Bieber Featuring Chance The Rapper, Holy\n",
      "\n",
      "Enter your favorite song or enter stop: pump it\n",
      "\n",
      "You like: pump it\n",
      "That is cool. Let's see, if I can advise you something else...\n",
      "You may also like: Madonna, Vogue - Edit\n",
      "\n",
      "Enter your favorite song or enter stop: stop\n",
      "\n",
      "See you later\n"
     ]
    }
   ],
   "source": [
    "#final version of prototype\n",
    "\n",
    "your_song=input\n",
    "offered_song=random.choice(song_and_artist)\n",
    "\n",
    "while your_song != \"stop\":\n",
    "    your_song=input(\"\\nEnter your favorite song or enter stop: \").lower()\n",
    "    if your_song in songs_lower:\n",
    "        print(\"\\nYou like: \"+your_song+\"\\nThat is cool. Let's see, if I can advise you something else...\\nYour song is in hot 100 songs!\\nYou may also like an other hot song: \"+offered_song)\n",
    "    elif your_song == \"stop\":\n",
    "        print(\"\\nSee you later\")\n",
    "    else:\n",
    "        song_check(your_song)\n"
   ]
  },
  {
   "cell_type": "code",
   "execution_count": null,
   "metadata": {},
   "outputs": [],
   "source": []
  }
 ],
 "metadata": {
  "kernelspec": {
   "display_name": "Python 3",
   "language": "python",
   "name": "python3"
  },
  "language_info": {
   "codemirror_mode": {
    "name": "ipython",
    "version": 3
   },
   "file_extension": ".py",
   "mimetype": "text/x-python",
   "name": "python",
   "nbconvert_exporter": "python",
   "pygments_lexer": "ipython3",
   "version": "3.8.6"
  }
 },
 "nbformat": 4,
 "nbformat_minor": 4
}
